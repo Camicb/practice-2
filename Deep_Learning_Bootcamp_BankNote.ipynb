{
  "nbformat": 4,
  "nbformat_minor": 0,
  "metadata": {
    "colab": {
      "name": "Deep Learning Bootcamp -  BankNote.ipynb",
      "provenance": [],
      "collapsed_sections": [],
      "authorship_tag": "ABX9TyOohhbscKlqUwINO3wktJ1a",
      "include_colab_link": true
    },
    "kernelspec": {
      "name": "python3",
      "display_name": "Python 3"
    }
  },
  "cells": [
    {
      "cell_type": "markdown",
      "metadata": {
        "id": "view-in-github",
        "colab_type": "text"
      },
      "source": [
        "<a href=\"https://colab.research.google.com/github/Camicb/practice-regression/blob/main/Deep_Learning_Bootcamp_BankNote.ipynb\" target=\"_parent\"><img src=\"https://colab.research.google.com/assets/colab-badge.svg\" alt=\"Open In Colab\"/></a>"
      ]
    },
    {
      "cell_type": "markdown",
      "metadata": {
        "id": "kWC3CZ-WuEvX"
      },
      "source": [
        "# 1. Introduction\r\n",
        "## Context\r\n",
        "Banknotes are one of the most important assets of a country. Some miscreants introduce fake notes which bear a resemblance to original note to create discrepancies of the money in the financial market. It is difficult for humans to tell true and fake banknotes apart especially because they have a lot of similar features.\r\n",
        "\r\n",
        "## Motivation \r\n",
        "Despite a decrease in the use of currency due to the recent growth in the use of electronic transactions, cash transactions remain very important in the global market. Banknotes are used to carry out financial activities. To continue with smooth cash transactions, entry of forged banknotes in circulation should be preserved. There has been a drastic increase in the rate of fake notes in the market. Fake money is an imitation of the genuine notes and is created illegally for various motives. These fake notes are created in all denominations which brings the financial market of the country to a low level. The various advancements in the field of scanners and copy machines have led the miscreants to create copies of banknotes. It is difficult for human-eye to recognize a fake note because they are created with great accuracy to look alike a genuine note. Security aspects of banknotes have to be considered and security features are to be introduced to mitigate fake currency. Hence, there is a dire need in banks and ATM machines to implement a system that classifies a note as genuine or fake.\r\n",
        "\r\n",
        "[Source of Information: A research paper on Analysis of Banknote Authentication System using Machine Learning Techniques by Sumeet Shahani, Aisa Jagiasi and Priya RL at International Journal of Computer Applications (0975 – 8887) Volume 179 – No.20, February 2018]\r\n",
        "\r\n",
        "## Objective\r\n",
        "Being a Data Science Enthusiast, you committed yourself to use the power of Data Science and come up with an efficient model that accurately predicts if a note is genuine or not.\r\n",
        "\r\n",
        "##About the Data\r\n",
        "Data were extracted from images that were taken for the evaluation of an authentication procedure for banknotes. Data were extracted from images that were taken from genuine and forged banknote-like specimens. For digitization, an industrial camera usually used for print inspection was used. The final images have 400x 400 pixels. Due to the object lens and distance to the investigated object grey-scale pictures with a resolution of about 660 dpi were gained. Wavelet Transform tool was used to extract features from images.\r\n",
        "\r\n",
        "##Data Description\r\n",
        "The dataset is downloaded from the UCI Machine Learning Repository.\r\n",
        "* VWTI: Variance of Wavelet Transformed Image\r\n",
        "* SWTI: Skewness of Wavelet Transformed Image\r\n",
        "* CWTI: Curtosis of Wavelet Transformed Image\r\n",
        "* EI: Entropy of Image\r\n",
        "* Class: Class (1: genuine, 0: forged)\r\n"
      ]
    },
    {
      "cell_type": "markdown",
      "metadata": {
        "id": "UJOj038TvoMt"
      },
      "source": [
        "#2. Importing libraries and loading the data"
      ]
    },
    {
      "cell_type": "code",
      "metadata": {
        "id": "n3p8namft0_x"
      },
      "source": [
        "import tensorflow as tf                      \r\n",
        "import numpy as np                            \r\n",
        "import matplotlib.pyplot as plt               \r\n",
        "%matplotlib inline\r\n",
        "import pandas as pd\r\n",
        "from tensorflow import keras \r\n",
        "from tensorflow.keras import Sequential \r\n",
        "from tensorflow.keras import layers\r\n",
        "from tensorflow.keras.layers import Dense"
      ],
      "execution_count": null,
      "outputs": []
    },
    {
      "cell_type": "code",
      "metadata": {
        "id": "toY19yXFxPN9"
      },
      "source": [
        "#training data\r\n",
        "train = pd.read_csv(\"https://raw.githubusercontent.com/dphi-official/Datasets/master/bank_note_data/training_set_label.csv\" ) \r\n",
        "#test data\r\n",
        "test_data = pd.read_csv('https://raw.githubusercontent.com/dphi-official/Datasets/master/bank_note_data/testing_set_label.csv')"
      ],
      "execution_count": null,
      "outputs": []
    },
    {
      "cell_type": "markdown",
      "metadata": {
        "id": "xAEOkDDew2o7"
      },
      "source": [
        "#3.Basic EDA"
      ]
    },
    {
      "cell_type": "code",
      "metadata": {
        "colab": {
          "base_uri": "https://localhost:8080/",
          "height": 197
        },
        "id": "MlqkGUIPx3RF",
        "outputId": "587c1220-5763-4a24-8fed-34e85dac8a6f"
      },
      "source": [
        "train.head()"
      ],
      "execution_count": null,
      "outputs": [
        {
          "output_type": "execute_result",
          "data": {
            "text/html": [
              "<div>\n",
              "<style scoped>\n",
              "    .dataframe tbody tr th:only-of-type {\n",
              "        vertical-align: middle;\n",
              "    }\n",
              "\n",
              "    .dataframe tbody tr th {\n",
              "        vertical-align: top;\n",
              "    }\n",
              "\n",
              "    .dataframe thead th {\n",
              "        text-align: right;\n",
              "    }\n",
              "</style>\n",
              "<table border=\"1\" class=\"dataframe\">\n",
              "  <thead>\n",
              "    <tr style=\"text-align: right;\">\n",
              "      <th></th>\n",
              "      <th>VWTI</th>\n",
              "      <th>SWTI</th>\n",
              "      <th>CWTI</th>\n",
              "      <th>EI</th>\n",
              "      <th>Class</th>\n",
              "    </tr>\n",
              "  </thead>\n",
              "  <tbody>\n",
              "    <tr>\n",
              "      <th>0</th>\n",
              "      <td>2.2634</td>\n",
              "      <td>-4.4862</td>\n",
              "      <td>3.6558</td>\n",
              "      <td>-0.612510</td>\n",
              "      <td>0</td>\n",
              "    </tr>\n",
              "    <tr>\n",
              "      <th>1</th>\n",
              "      <td>3.2718</td>\n",
              "      <td>1.7837</td>\n",
              "      <td>2.1161</td>\n",
              "      <td>0.613340</td>\n",
              "      <td>0</td>\n",
              "    </tr>\n",
              "    <tr>\n",
              "      <th>2</th>\n",
              "      <td>-3.9411</td>\n",
              "      <td>-12.8792</td>\n",
              "      <td>13.0597</td>\n",
              "      <td>-3.312500</td>\n",
              "      <td>1</td>\n",
              "    </tr>\n",
              "    <tr>\n",
              "      <th>3</th>\n",
              "      <td>0.5195</td>\n",
              "      <td>-3.2633</td>\n",
              "      <td>3.0895</td>\n",
              "      <td>-0.984900</td>\n",
              "      <td>0</td>\n",
              "    </tr>\n",
              "    <tr>\n",
              "      <th>4</th>\n",
              "      <td>2.5698</td>\n",
              "      <td>-4.4076</td>\n",
              "      <td>5.9856</td>\n",
              "      <td>0.078002</td>\n",
              "      <td>0</td>\n",
              "    </tr>\n",
              "  </tbody>\n",
              "</table>\n",
              "</div>"
            ],
            "text/plain": [
              "     VWTI     SWTI     CWTI        EI  Class\n",
              "0  2.2634  -4.4862   3.6558 -0.612510      0\n",
              "1  3.2718   1.7837   2.1161  0.613340      0\n",
              "2 -3.9411 -12.8792  13.0597 -3.312500      1\n",
              "3  0.5195  -3.2633   3.0895 -0.984900      0\n",
              "4  2.5698  -4.4076   5.9856  0.078002      0"
            ]
          },
          "metadata": {
            "tags": []
          },
          "execution_count": 3
        }
      ]
    },
    {
      "cell_type": "code",
      "metadata": {
        "colab": {
          "base_uri": "https://localhost:8080/",
          "height": 197
        },
        "id": "4T551H7y5UGw",
        "outputId": "28882641-57c3-4466-fb26-798cbb9f421f"
      },
      "source": [
        "test_data.head()"
      ],
      "execution_count": null,
      "outputs": [
        {
          "output_type": "execute_result",
          "data": {
            "text/html": [
              "<div>\n",
              "<style scoped>\n",
              "    .dataframe tbody tr th:only-of-type {\n",
              "        vertical-align: middle;\n",
              "    }\n",
              "\n",
              "    .dataframe tbody tr th {\n",
              "        vertical-align: top;\n",
              "    }\n",
              "\n",
              "    .dataframe thead th {\n",
              "        text-align: right;\n",
              "    }\n",
              "</style>\n",
              "<table border=\"1\" class=\"dataframe\">\n",
              "  <thead>\n",
              "    <tr style=\"text-align: right;\">\n",
              "      <th></th>\n",
              "      <th>VWTI</th>\n",
              "      <th>SWTI</th>\n",
              "      <th>CWTI</th>\n",
              "      <th>EI</th>\n",
              "    </tr>\n",
              "  </thead>\n",
              "  <tbody>\n",
              "    <tr>\n",
              "      <th>0</th>\n",
              "      <td>-0.40804</td>\n",
              "      <td>0.54214</td>\n",
              "      <td>-0.52725</td>\n",
              "      <td>0.65860</td>\n",
              "    </tr>\n",
              "    <tr>\n",
              "      <th>1</th>\n",
              "      <td>-3.71810</td>\n",
              "      <td>-8.50890</td>\n",
              "      <td>12.36300</td>\n",
              "      <td>-0.95518</td>\n",
              "    </tr>\n",
              "    <tr>\n",
              "      <th>2</th>\n",
              "      <td>5.50400</td>\n",
              "      <td>10.36710</td>\n",
              "      <td>-4.41300</td>\n",
              "      <td>-4.02110</td>\n",
              "    </tr>\n",
              "    <tr>\n",
              "      <th>3</th>\n",
              "      <td>1.68490</td>\n",
              "      <td>8.74890</td>\n",
              "      <td>-1.26410</td>\n",
              "      <td>-1.38580</td>\n",
              "    </tr>\n",
              "    <tr>\n",
              "      <th>4</th>\n",
              "      <td>4.74320</td>\n",
              "      <td>2.10860</td>\n",
              "      <td>0.13680</td>\n",
              "      <td>1.65430</td>\n",
              "    </tr>\n",
              "  </tbody>\n",
              "</table>\n",
              "</div>"
            ],
            "text/plain": [
              "      VWTI      SWTI      CWTI       EI\n",
              "0 -0.40804   0.54214  -0.52725  0.65860\n",
              "1 -3.71810  -8.50890  12.36300 -0.95518\n",
              "2  5.50400  10.36710  -4.41300 -4.02110\n",
              "3  1.68490   8.74890  -1.26410 -1.38580\n",
              "4  4.74320   2.10860   0.13680  1.65430"
            ]
          },
          "metadata": {
            "tags": []
          },
          "execution_count": 4
        }
      ]
    },
    {
      "cell_type": "code",
      "metadata": {
        "colab": {
          "base_uri": "https://localhost:8080/"
        },
        "id": "DBenmq5LyBfj",
        "outputId": "4df16382-d3af-4a99-eba7-9d7d4102bc0c"
      },
      "source": [
        "train.info()"
      ],
      "execution_count": null,
      "outputs": [
        {
          "output_type": "stream",
          "text": [
            "<class 'pandas.core.frame.DataFrame'>\n",
            "RangeIndex: 1096 entries, 0 to 1095\n",
            "Data columns (total 5 columns):\n",
            " #   Column  Non-Null Count  Dtype  \n",
            "---  ------  --------------  -----  \n",
            " 0   VWTI    1096 non-null   float64\n",
            " 1   SWTI    1096 non-null   float64\n",
            " 2   CWTI    1096 non-null   float64\n",
            " 3   EI      1096 non-null   float64\n",
            " 4   Class   1096 non-null   int64  \n",
            "dtypes: float64(4), int64(1)\n",
            "memory usage: 42.9 KB\n"
          ],
          "name": "stdout"
        }
      ]
    },
    {
      "cell_type": "code",
      "metadata": {
        "colab": {
          "base_uri": "https://localhost:8080/"
        },
        "id": "_62Xehl-5ahj",
        "outputId": "04251d87-c430-49b8-dc53-98ece19b7993"
      },
      "source": [
        "test_data.info()"
      ],
      "execution_count": null,
      "outputs": [
        {
          "output_type": "stream",
          "text": [
            "<class 'pandas.core.frame.DataFrame'>\n",
            "RangeIndex: 275 entries, 0 to 274\n",
            "Data columns (total 4 columns):\n",
            " #   Column  Non-Null Count  Dtype  \n",
            "---  ------  --------------  -----  \n",
            " 0   VWTI    275 non-null    float64\n",
            " 1   SWTI    275 non-null    float64\n",
            " 2   CWTI    275 non-null    float64\n",
            " 3   EI      275 non-null    float64\n",
            "dtypes: float64(4)\n",
            "memory usage: 8.7 KB\n"
          ],
          "name": "stdout"
        }
      ]
    },
    {
      "cell_type": "code",
      "metadata": {
        "colab": {
          "base_uri": "https://localhost:8080/"
        },
        "id": "ezJxUToOyp_j",
        "outputId": "babab3c3-d2ad-45e4-c75a-3fd286e63aee"
      },
      "source": [
        "train['Class'].value_counts()"
      ],
      "execution_count": null,
      "outputs": [
        {
          "output_type": "execute_result",
          "data": {
            "text/plain": [
              "0    608\n",
              "1    488\n",
              "Name: Class, dtype: int64"
            ]
          },
          "metadata": {
            "tags": []
          },
          "execution_count": 7
        }
      ]
    },
    {
      "cell_type": "code",
      "metadata": {
        "id": "KRyuRobryphR"
      },
      "source": [
        "# Spliting training data into a new training and validation datasets\r\n",
        "from sklearn.model_selection import train_test_split\r\n",
        "X=train.drop(\"Class\",axis=1)\r\n",
        "y=train.Class\r\n",
        "X_train,X_val,y_train,y_val=train_test_split(X,y,test_size=0.15,random_state=1, stratify=y)"
      ],
      "execution_count": null,
      "outputs": []
    },
    {
      "cell_type": "code",
      "metadata": {
        "colab": {
          "base_uri": "https://localhost:8080/"
        },
        "id": "i889GLFtzS9c",
        "outputId": "3d33b287-de3d-4cc2-fda5-265e9b7a3568"
      },
      "source": [
        "X_train.shape"
      ],
      "execution_count": null,
      "outputs": [
        {
          "output_type": "execute_result",
          "data": {
            "text/plain": [
              "(931, 4)"
            ]
          },
          "metadata": {
            "tags": []
          },
          "execution_count": 9
        }
      ]
    },
    {
      "cell_type": "markdown",
      "metadata": {
        "id": "GX7abln_0I4s"
      },
      "source": [
        "#4. Modeling"
      ]
    },
    {
      "cell_type": "code",
      "metadata": {
        "colab": {
          "base_uri": "https://localhost:8080/"
        },
        "id": "UPnUBgA1zTgo",
        "outputId": "7c3c40c5-a73c-40d6-a7a3-b0389d95f0f0"
      },
      "source": [
        "# Building the model\r\n",
        "model = Sequential()\r\n",
        "model.add(Dense(32, activation='relu', input_shape=(X_train.shape[1],)))   \r\n",
        "model.add(Dense(16, activation='relu'))\r\n",
        "model.add(Dense(8, activation='relu'))\r\n",
        "model.add(Dense(1, activation='sigmoid'))\r\n",
        "\r\n",
        "model.summary()\r\n"
      ],
      "execution_count": null,
      "outputs": [
        {
          "output_type": "stream",
          "text": [
            "Model: \"sequential\"\n",
            "_________________________________________________________________\n",
            "Layer (type)                 Output Shape              Param #   \n",
            "=================================================================\n",
            "dense (Dense)                (None, 32)                160       \n",
            "_________________________________________________________________\n",
            "dense_1 (Dense)              (None, 16)                528       \n",
            "_________________________________________________________________\n",
            "dense_2 (Dense)              (None, 8)                 136       \n",
            "_________________________________________________________________\n",
            "dense_3 (Dense)              (None, 1)                 9         \n",
            "=================================================================\n",
            "Total params: 833\n",
            "Trainable params: 833\n",
            "Non-trainable params: 0\n",
            "_________________________________________________________________\n"
          ],
          "name": "stdout"
        }
      ]
    },
    {
      "cell_type": "code",
      "metadata": {
        "id": "U1isnuqW03lo"
      },
      "source": [
        "# Compiling the model\r\n",
        "model.compile(loss='binary_crossentropy', optimizer= 'adam' , metrics=['accuracy'])"
      ],
      "execution_count": null,
      "outputs": []
    },
    {
      "cell_type": "code",
      "metadata": {
        "colab": {
          "base_uri": "https://localhost:8080/"
        },
        "id": "pgPxPYVP2X9l",
        "outputId": "12581dcf-94e1-4a11-cc54-cb0add9e3b51"
      },
      "source": [
        "# Fitting the model\r\n",
        "history = model.fit(X_train, y_train, validation_split=0.1, epochs=10, batch_size=10, verbose=1)"
      ],
      "execution_count": null,
      "outputs": [
        {
          "output_type": "stream",
          "text": [
            "Epoch 1/10\n",
            "84/84 [==============================] - 1s 6ms/step - loss: 0.5859 - accuracy: 0.7660 - val_loss: 0.3108 - val_accuracy: 0.9255\n",
            "Epoch 2/10\n",
            "84/84 [==============================] - 0s 2ms/step - loss: 0.2630 - accuracy: 0.9540 - val_loss: 0.0884 - val_accuracy: 0.9787\n",
            "Epoch 3/10\n",
            "84/84 [==============================] - 0s 2ms/step - loss: 0.0704 - accuracy: 0.9998 - val_loss: 0.0340 - val_accuracy: 0.9894\n",
            "Epoch 4/10\n",
            "84/84 [==============================] - 0s 2ms/step - loss: 0.0199 - accuracy: 0.9996 - val_loss: 0.0179 - val_accuracy: 1.0000\n",
            "Epoch 5/10\n",
            "84/84 [==============================] - 0s 2ms/step - loss: 0.0101 - accuracy: 1.0000 - val_loss: 0.0119 - val_accuracy: 1.0000\n",
            "Epoch 6/10\n",
            "84/84 [==============================] - 0s 2ms/step - loss: 0.0060 - accuracy: 1.0000 - val_loss: 0.0076 - val_accuracy: 1.0000\n",
            "Epoch 7/10\n",
            "84/84 [==============================] - 0s 2ms/step - loss: 0.0039 - accuracy: 1.0000 - val_loss: 0.0056 - val_accuracy: 1.0000\n",
            "Epoch 8/10\n",
            "84/84 [==============================] - 0s 2ms/step - loss: 0.0032 - accuracy: 1.0000 - val_loss: 0.0045 - val_accuracy: 1.0000\n",
            "Epoch 9/10\n",
            "84/84 [==============================] - 0s 2ms/step - loss: 0.0026 - accuracy: 1.0000 - val_loss: 0.0037 - val_accuracy: 1.0000\n",
            "Epoch 10/10\n",
            "84/84 [==============================] - 0s 2ms/step - loss: 0.0017 - accuracy: 1.0000 - val_loss: 0.0028 - val_accuracy: 1.0000\n"
          ],
          "name": "stdout"
        }
      ]
    },
    {
      "cell_type": "code",
      "metadata": {
        "colab": {
          "base_uri": "https://localhost:8080/"
        },
        "id": "ekY1mPP434Ua",
        "outputId": "8e2e557e-bbeb-43ad-b57c-035b5bc6cb9c"
      },
      "source": [
        "# Evaluating the model\r\n",
        "model.evaluate(X_val, y_val)"
      ],
      "execution_count": null,
      "outputs": [
        {
          "output_type": "stream",
          "text": [
            "6/6 [==============================] - 0s 2ms/step - loss: 0.0018 - accuracy: 1.0000\n"
          ],
          "name": "stdout"
        },
        {
          "output_type": "execute_result",
          "data": {
            "text/plain": [
              "[0.0017514628125354648, 1.0]"
            ]
          },
          "metadata": {
            "tags": []
          },
          "execution_count": 13
        }
      ]
    },
    {
      "cell_type": "code",
      "metadata": {
        "colab": {
          "base_uri": "https://localhost:8080/",
          "height": 294
        },
        "id": "T2bZrbQc4HHm",
        "outputId": "4e0036a3-3bc4-47e2-e806-b9c92da29a6e"
      },
      "source": [
        "# Model accuracy \r\n",
        "plt.plot(history.history['accuracy'])\r\n",
        "plt.plot(history.history['val_accuracy'])\r\n",
        "plt.title('Model Accuracy')\r\n",
        "plt.ylabel('accuracy')\r\n",
        "plt.xlabel('epoch')\r\n",
        "plt.legend(['Train', 'Validation'])\r\n",
        "plt.show()"
      ],
      "execution_count": null,
      "outputs": [
        {
          "output_type": "display_data",
          "data": {
            "image/png": "[encoded data removed]",
            "text/plain": [
              "<Figure size 432x288 with 1 Axes>"
            ]
          },
          "metadata": {
            "tags": [],
            "needs_background": "light"
          }
        }
      ]
    },
    {
      "cell_type": "code",
      "metadata": {
        "colab": {
          "base_uri": "https://localhost:8080/",
          "height": 294
        },
        "id": "LM1q8Uou4T7o",
        "outputId": "bcc9c766-bffa-49eb-8163-9ec621e17dee"
      },
      "source": [
        "# Model Loss\r\n",
        "plt.plot(history.history['loss'])\r\n",
        "plt.plot(history.history['val_loss'])\r\n",
        "plt.title('Model Loss')\r\n",
        "plt.ylabel('loss')\r\n",
        "plt.xlabel('epoch')\r\n",
        "plt.legend(['Train', 'Validation'])\r\n",
        "plt.show()"
      ],
      "execution_count": null,
      "outputs": [
        {
          "output_type": "display_data",
          "data": {
            "image/png": "[encoded data removed]",
            "text/plain": [
              "<Figure size 432x288 with 1 Axes>"
            ]
          },
          "metadata": {
            "tags": [],
            "needs_background": "light"
          }
        }
      ]
    },
    {
      "cell_type": "code",
      "metadata": {
        "colab": {
          "base_uri": "https://localhost:8080/",
          "height": 16
        },
        "id": "wcrcg0Y142pL",
        "outputId": "49c5808b-26d8-4298-e680-5a1e5e1534f1"
      },
      "source": [
        "# Predictions\n",
        "test=np.array(test_data)\n",
        "predictions=(model.predict(test)>0.5).astype(\"int32\")\n",
        "\n",
        "res = pd.DataFrame(predictions) \n",
        "res.index = test_data.index\n",
        "res.columns = ['prediction']\n",
        " \n",
        "# To download the csv file locally\n",
        "from google.colab import files\n",
        "res.to_csv('prediction_results.csv', index=False)         \n",
        "files.download('prediction_results.csv')"
      ],
      "execution_count": null,
      "outputs": [
        {
          "output_type": "display_data",
          "data": {
            "application/javascript": [
              "\n",
              "    async function download(id, filename, size) {\n",
              "      if (!google.colab.kernel.accessAllowed) {\n",
              "        return;\n",
              "      }\n",
              "      const div = document.createElement('div');\n",
              "      const label = document.createElement('label');\n",
              "      label.textContent = `Downloading \"${filename}\": `;\n",
              "      div.appendChild(label);\n",
              "      const progress = document.createElement('progress');\n",
              "      progress.max = size;\n",
              "      div.appendChild(progress);\n",
              "      document.body.appendChild(div);\n",
              "\n",
              "      const buffers = [];\n",
              "      let downloaded = 0;\n",
              "\n",
              "      const channel = await google.colab.kernel.comms.open(id);\n",
              "      // Send a message to notify the kernel that we're ready.\n",
              "      channel.send({})\n",
              "\n",
              "      for await (const message of channel.messages) {\n",
              "        // Send a message to notify the kernel that we're ready.\n",
              "        channel.send({})\n",
              "        if (message.buffers) {\n",
              "          for (const buffer of message.buffers) {\n",
              "            buffers.push(buffer);\n",
              "            downloaded += buffer.byteLength;\n",
              "            progress.value = downloaded;\n",
              "          }\n",
              "        }\n",
              "      }\n",
              "      const blob = new Blob(buffers, {type: 'application/binary'});\n",
              "      const a = document.createElement('a');\n",
              "      a.href = window.URL.createObjectURL(blob);\n",
              "      a.download = filename;\n",
              "      div.appendChild(a);\n",
              "      a.click();\n",
              "      div.remove();\n",
              "    }\n",
              "  "
            ],
            "text/plain": [
              "<IPython.core.display.Javascript object>"
            ]
          },
          "metadata": {
            "tags": []
          }
        },
        {
          "output_type": "display_data",
          "data": {
            "application/javascript": [
              "download(\"download_fbde7c7d-2532-458f-9165-232e67705251\", \"prediction_results.csv\", 561)"
            ],
            "text/plain": [
              "<IPython.core.display.Javascript object>"
            ]
          },
          "metadata": {
            "tags": []
          }
        }
      ]
    }
  ]
}